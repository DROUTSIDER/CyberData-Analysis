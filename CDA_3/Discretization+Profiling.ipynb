{
 "cells": [
  {
   "cell_type": "markdown",
   "metadata": {},
   "source": [
    "## 3. Flow data discretization task\n",
    "We aim to learn a sequential model from NetFlow data from an infected host (unidirectional netfows). Consider scenario 10 from the CTU-13 data sets (see paper 4 from below resources). **Remove all background flows from the data**. You are to discretize the NetFlows. **Investigate the data from one of the infected hosts**. **Select and visualize two features that you believe are most relevant for modeling the behavior of the infected host**. **Discretize these features** using use any of the methods discussed in class (combine the two values into a single discrete value). Do you observe any behavior in the two features that could be useful for detecting the infection? Explain. Apply the discretization to data from all hosts in the selected scenario."
   ]
  },
  {
   "cell_type": "code",
   "execution_count": 27,
   "metadata": {},
   "outputs": [],
   "source": [
    "import pandas as pd\n",
    "import matplotlib.pyplot as plt\n",
    "import numpy as np\n",
    "import seaborn as sns\n",
    "import math\n",
    "from matplotlib.pyplot import figure\n",
    "from sklearn.cluster import KMeans\n",
    "from scipy.spatial.distance import cdist\n",
    "#pre-process, divide raw data in to follwing coulmns: Data, Duration, Protocol, Source, Destination and Label\n",
    "columns=['Date','Duration','Protocol','Source','Dest','Packet','Bytes','Label']\n",
    "lst=[]\n",
    "with open(\"capture20110818.pcap.netflow.labeled\") as fp:  \n",
    "    for cnt, line in enumerate(fp):\n",
    "        if cnt!=0:\n",
    "            dat=line.split()\n",
    "            lst.append([dat[0]+' '+dat[1],dat[2],dat[3],dat[4].split(':')[0],dat[6].split(':')[0],dat[9],dat[10],dat[12]])\n",
    "dataset=pd.DataFrame(lst, columns=columns)"
   ]
  },
  {
   "cell_type": "code",
   "execution_count": 28,
   "metadata": {
    "scrolled": true
   },
   "outputs": [
    {
     "data": {
      "text/html": [
       "<div>\n",
       "<style scoped>\n",
       "    .dataframe tbody tr th:only-of-type {\n",
       "        vertical-align: middle;\n",
       "    }\n",
       "\n",
       "    .dataframe tbody tr th {\n",
       "        vertical-align: top;\n",
       "    }\n",
       "\n",
       "    .dataframe thead th {\n",
       "        text-align: right;\n",
       "    }\n",
       "</style>\n",
       "<table border=\"1\" class=\"dataframe\">\n",
       "  <thead>\n",
       "    <tr style=\"text-align: right;\">\n",
       "      <th></th>\n",
       "      <th>Date</th>\n",
       "      <th>Duration</th>\n",
       "      <th>Protocol</th>\n",
       "      <th>Source</th>\n",
       "      <th>Dest</th>\n",
       "      <th>Packet</th>\n",
       "      <th>Bytes</th>\n",
       "      <th>Label</th>\n",
       "    </tr>\n",
       "  </thead>\n",
       "  <tbody>\n",
       "    <tr>\n",
       "      <th>0</th>\n",
       "      <td>2011-08-18 10:19:13.328</td>\n",
       "      <td>0.002</td>\n",
       "      <td>TCP</td>\n",
       "      <td>147.32.86.166</td>\n",
       "      <td>212.24.150.110</td>\n",
       "      <td>4</td>\n",
       "      <td>321</td>\n",
       "      <td>Background</td>\n",
       "    </tr>\n",
       "    <tr>\n",
       "      <th>1</th>\n",
       "      <td>2011-08-18 10:19:13.328</td>\n",
       "      <td>4.995</td>\n",
       "      <td>UDP</td>\n",
       "      <td>82.39.2.249</td>\n",
       "      <td>147.32.84.59</td>\n",
       "      <td>617</td>\n",
       "      <td>40095</td>\n",
       "      <td>Background</td>\n",
       "    </tr>\n",
       "    <tr>\n",
       "      <th>2</th>\n",
       "      <td>2011-08-18 10:19:13.329</td>\n",
       "      <td>4.996</td>\n",
       "      <td>UDP</td>\n",
       "      <td>147.32.84.59</td>\n",
       "      <td>82.39.2.249</td>\n",
       "      <td>1290</td>\n",
       "      <td>1909200</td>\n",
       "      <td>Background</td>\n",
       "    </tr>\n",
       "    <tr>\n",
       "      <th>3</th>\n",
       "      <td>2011-08-18 10:19:13.330</td>\n",
       "      <td>0.000</td>\n",
       "      <td>TCP</td>\n",
       "      <td>147.32.86.166</td>\n",
       "      <td>147.32.192.34</td>\n",
       "      <td>1</td>\n",
       "      <td>66</td>\n",
       "      <td>Background</td>\n",
       "    </tr>\n",
       "    <tr>\n",
       "      <th>4</th>\n",
       "      <td>2011-08-18 10:19:13.330</td>\n",
       "      <td>0.000</td>\n",
       "      <td>TCP</td>\n",
       "      <td>212.24.150.110</td>\n",
       "      <td>147.32.86.166</td>\n",
       "      <td>2</td>\n",
       "      <td>169</td>\n",
       "      <td>Background</td>\n",
       "    </tr>\n",
       "  </tbody>\n",
       "</table>\n",
       "</div>"
      ],
      "text/plain": [
       "                      Date Duration Protocol          Source            Dest  \\\n",
       "0  2011-08-18 10:19:13.328    0.002      TCP   147.32.86.166  212.24.150.110   \n",
       "1  2011-08-18 10:19:13.328    4.995      UDP     82.39.2.249    147.32.84.59   \n",
       "2  2011-08-18 10:19:13.329    4.996      UDP    147.32.84.59     82.39.2.249   \n",
       "3  2011-08-18 10:19:13.330    0.000      TCP   147.32.86.166   147.32.192.34   \n",
       "4  2011-08-18 10:19:13.330    0.000      TCP  212.24.150.110   147.32.86.166   \n",
       "\n",
       "  Packet    Bytes       Label  \n",
       "0      4      321  Background  \n",
       "1    617    40095  Background  \n",
       "2   1290  1909200  Background  \n",
       "3      1       66  Background  \n",
       "4      2      169  Background  "
      ]
     },
     "execution_count": 28,
     "metadata": {},
     "output_type": "execute_result"
    }
   ],
   "source": [
    "dataset.head()"
   ]
  },
  {
   "cell_type": "markdown",
   "metadata": {},
   "source": [
    "### 3.1 Process dataset"
   ]
  },
  {
   "cell_type": "code",
   "execution_count": 29,
   "metadata": {},
   "outputs": [
    {
     "name": "stdout",
     "output_type": "stream",
     "text": [
      "before remove background, length is : 5180851\n",
      "before after background, length is : 645358\n",
      "                      Date Duration Protocol         Source            Dest  \\\n",
      "0  2011-08-18 10:19:13.347    4.985      TCP   147.32.80.13    147.32.85.88   \n",
      "1  2011-08-18 10:19:13.392    0.000      TCP  147.32.86.110  74.125.232.214   \n",
      "2  2011-08-18 10:19:13.411    4.921      TCP   147.32.85.88    147.32.80.13   \n",
      "3  2011-08-18 10:19:13.460    4.742      TCP   147.32.84.59  74.125.108.208   \n",
      "4  2011-08-18 10:19:13.486    0.000      TCP   147.32.84.59  74.125.232.215   \n",
      "\n",
      "  Packet  Bytes       Label  \n",
      "0     91  86277  LEGITIMATE  \n",
      "1      1     66  LEGITIMATE  \n",
      "2     49   3234  LEGITIMATE  \n",
      "3    118   7080  LEGITIMATE  \n",
      "4      1     60  LEGITIMATE  \n",
      "                     Date Duration Protocol         Source            Dest  \\\n",
      "0 2011-08-18 10:19:13.347    4.985      TCP   147.32.80.13    147.32.85.88   \n",
      "1 2011-08-18 10:19:13.392    0.000      TCP  147.32.86.110  74.125.232.214   \n",
      "2 2011-08-18 10:19:13.411    4.921      TCP   147.32.85.88    147.32.80.13   \n",
      "3 2011-08-18 10:19:13.460    4.742      TCP   147.32.84.59  74.125.108.208   \n",
      "4 2011-08-18 10:19:13.486    0.000      TCP   147.32.84.59  74.125.232.215   \n",
      "\n",
      "  Packet  Bytes       Label  \n",
      "0     91  86277  LEGITIMATE  \n",
      "1      1     66  LEGITIMATE  \n",
      "2     49   3234  LEGITIMATE  \n",
      "3    118   7080  LEGITIMATE  \n",
      "4      1     60  LEGITIMATE  \n"
     ]
    },
    {
     "name": "stderr",
     "output_type": "stream",
     "text": [
      "c:\\users\\a\\appdata\\local\\programs\\python\\python37\\lib\\site-packages\\ipykernel_launcher.py:24: FutureWarning: set_value is deprecated and will be removed in a future release. Please use .at[] or .iat[] accessors instead\n"
     ]
    }
   ],
   "source": [
    "print(f'before remove background, length is : {len(dataset)}')\n",
    "#remove backgroundflow\n",
    "dataset_clean = dataset.loc[(dataset['Label']!=\"Background\")]\n",
    "# dataset_clean=dataset_clean[dataset_clean['Packet'].astype(str).str.isdigit()]\n",
    "dataset_clean = dataset_clean.reset_index(drop=True)\n",
    "print(f'before after background, length is : {len(dataset_clean)}')\n",
    "#change Date to pandas form\n",
    "dataset_clean['Date'] = pd.to_datetime(dataset_clean['Date'], format='%Y-%m-%d %H:%M:%S', errors='coerce')\n",
    "#fill NAN values using 0\n",
    "dataset_clean['Duration']=dataset_clean['Duration'].fillna(0)\n",
    "dataset_clean['Label']=dataset_clean['Label'].fillna(0)\n",
    "#convert several columns to numerical\n",
    "dataset_clean['Duration']=pd.to_numeric(dataset_clean['Duration'])\n",
    "dataset_clean['Packet']=pd.to_numeric(dataset_clean['Packet'])\n",
    "dataset_clean['Bytes']=pd.to_numeric(dataset_clean['Bytes'])\n",
    "#map Label to numbers. botnet is represented by 0 and the rest by 1\n",
    "for index, i in enumerate(dataset_clean['Label']):\n",
    "    if i == 'Botnet':\n",
    "        val=0\n",
    "    else:\n",
    "        val = 1\n",
    "    dataset_clean.set_value(index,'Label',val)"
   ]
  },
  {
   "cell_type": "code",
   "execution_count": 30,
   "metadata": {},
   "outputs": [
    {
     "name": "stdout",
     "output_type": "stream",
     "text": [
      "[0 1]\n"
     ]
    },
    {
     "data": {
      "text/html": [
       "<div>\n",
       "<style scoped>\n",
       "    .dataframe tbody tr th:only-of-type {\n",
       "        vertical-align: middle;\n",
       "    }\n",
       "\n",
       "    .dataframe tbody tr th {\n",
       "        vertical-align: top;\n",
       "    }\n",
       "\n",
       "    .dataframe thead th {\n",
       "        text-align: right;\n",
       "    }\n",
       "</style>\n",
       "<table border=\"1\" class=\"dataframe\">\n",
       "  <thead>\n",
       "    <tr style=\"text-align: right;\">\n",
       "      <th></th>\n",
       "      <th>Date</th>\n",
       "      <th>Duration</th>\n",
       "      <th>Protocol</th>\n",
       "      <th>Source</th>\n",
       "      <th>Dest</th>\n",
       "      <th>Packet</th>\n",
       "      <th>Bytes</th>\n",
       "      <th>Label</th>\n",
       "    </tr>\n",
       "  </thead>\n",
       "  <tbody>\n",
       "    <tr>\n",
       "      <th>0</th>\n",
       "      <td>2011-08-18 10:19:13.347</td>\n",
       "      <td>4.985</td>\n",
       "      <td>TCP</td>\n",
       "      <td>147.32.80.13</td>\n",
       "      <td>147.32.85.88</td>\n",
       "      <td>91</td>\n",
       "      <td>86277</td>\n",
       "      <td>1</td>\n",
       "    </tr>\n",
       "    <tr>\n",
       "      <th>1</th>\n",
       "      <td>2011-08-18 10:19:13.392</td>\n",
       "      <td>0.000</td>\n",
       "      <td>TCP</td>\n",
       "      <td>147.32.86.110</td>\n",
       "      <td>74.125.232.214</td>\n",
       "      <td>1</td>\n",
       "      <td>66</td>\n",
       "      <td>1</td>\n",
       "    </tr>\n",
       "    <tr>\n",
       "      <th>2</th>\n",
       "      <td>2011-08-18 10:19:13.411</td>\n",
       "      <td>4.921</td>\n",
       "      <td>TCP</td>\n",
       "      <td>147.32.85.88</td>\n",
       "      <td>147.32.80.13</td>\n",
       "      <td>49</td>\n",
       "      <td>3234</td>\n",
       "      <td>1</td>\n",
       "    </tr>\n",
       "    <tr>\n",
       "      <th>3</th>\n",
       "      <td>2011-08-18 10:19:13.460</td>\n",
       "      <td>4.742</td>\n",
       "      <td>TCP</td>\n",
       "      <td>147.32.84.59</td>\n",
       "      <td>74.125.108.208</td>\n",
       "      <td>118</td>\n",
       "      <td>7080</td>\n",
       "      <td>1</td>\n",
       "    </tr>\n",
       "    <tr>\n",
       "      <th>4</th>\n",
       "      <td>2011-08-18 10:19:13.486</td>\n",
       "      <td>0.000</td>\n",
       "      <td>TCP</td>\n",
       "      <td>147.32.84.59</td>\n",
       "      <td>74.125.232.215</td>\n",
       "      <td>1</td>\n",
       "      <td>60</td>\n",
       "      <td>1</td>\n",
       "    </tr>\n",
       "  </tbody>\n",
       "</table>\n",
       "</div>"
      ],
      "text/plain": [
       "                     Date  Duration Protocol         Source            Dest  \\\n",
       "0 2011-08-18 10:19:13.347     4.985      TCP   147.32.80.13    147.32.85.88   \n",
       "1 2011-08-18 10:19:13.392     0.000      TCP  147.32.86.110  74.125.232.214   \n",
       "2 2011-08-18 10:19:13.411     4.921      TCP   147.32.85.88    147.32.80.13   \n",
       "3 2011-08-18 10:19:13.460     4.742      TCP   147.32.84.59  74.125.108.208   \n",
       "4 2011-08-18 10:19:13.486     0.000      TCP   147.32.84.59  74.125.232.215   \n",
       "\n",
       "   Packet  Bytes Label  \n",
       "0      91  86277     1  \n",
       "1       1     66     1  \n",
       "2      49   3234     1  \n",
       "3     118   7080     1  \n",
       "4       1     60     1  "
      ]
     },
     "execution_count": 30,
     "metadata": {},
     "output_type": "execute_result"
    }
   ],
   "source": [
    "print(np.unique(dataset_clean['Label']))\n",
    "dataset_clean.head()"
   ]
  },
  {
   "cell_type": "markdown",
   "metadata": {},
   "source": [
    "### 3.2 Investigate infected host"
   ]
  },
  {
   "cell_type": "code",
   "execution_count": 31,
   "metadata": {},
   "outputs": [
    {
     "name": "stdout",
     "output_type": "stream",
     "text": [
      "length of ingected dataset is 33723\n"
     ]
    }
   ],
   "source": [
    "# investigate  infected host\n",
    "infected_host = '147.32.84.208'\n",
    "dataset_infected = dataset_clean.loc[(dataset_clean['Source']==infected_host) | (dataset_clean['Dest']==infected_host)]\n",
    "dataset_infected = dataset_infected.reset_index()\n",
    "print(f'length of ingected dataset is {len(dataset_infected)}')"
   ]
  },
  {
   "cell_type": "code",
   "execution_count": 32,
   "metadata": {},
   "outputs": [
    {
     "data": {
      "text/html": [
       "<div>\n",
       "<style scoped>\n",
       "    .dataframe tbody tr th:only-of-type {\n",
       "        vertical-align: middle;\n",
       "    }\n",
       "\n",
       "    .dataframe tbody tr th {\n",
       "        vertical-align: top;\n",
       "    }\n",
       "\n",
       "    .dataframe thead th {\n",
       "        text-align: right;\n",
       "    }\n",
       "</style>\n",
       "<table border=\"1\" class=\"dataframe\">\n",
       "  <thead>\n",
       "    <tr style=\"text-align: right;\">\n",
       "      <th></th>\n",
       "      <th>index</th>\n",
       "      <th>Date</th>\n",
       "      <th>Duration</th>\n",
       "      <th>Protocol</th>\n",
       "      <th>Source</th>\n",
       "      <th>Dest</th>\n",
       "      <th>Packet</th>\n",
       "      <th>Bytes</th>\n",
       "      <th>Label</th>\n",
       "    </tr>\n",
       "  </thead>\n",
       "  <tbody>\n",
       "    <tr>\n",
       "      <th>0</th>\n",
       "      <td>1390</td>\n",
       "      <td>2011-08-18 10:20:40.906</td>\n",
       "      <td>0.0</td>\n",
       "      <td>TCP</td>\n",
       "      <td>58.188.108.203</td>\n",
       "      <td>147.32.84.208</td>\n",
       "      <td>1</td>\n",
       "      <td>66</td>\n",
       "      <td>0</td>\n",
       "    </tr>\n",
       "    <tr>\n",
       "      <th>1</th>\n",
       "      <td>42847</td>\n",
       "      <td>2011-08-18 11:01:02.018</td>\n",
       "      <td>0.0</td>\n",
       "      <td>UDP</td>\n",
       "      <td>147.32.84.208</td>\n",
       "      <td>147.32.80.9</td>\n",
       "      <td>1</td>\n",
       "      <td>64</td>\n",
       "      <td>0</td>\n",
       "    </tr>\n",
       "    <tr>\n",
       "      <th>2</th>\n",
       "      <td>42848</td>\n",
       "      <td>2011-08-18 11:01:02.018</td>\n",
       "      <td>0.0</td>\n",
       "      <td>UDP</td>\n",
       "      <td>147.32.80.9</td>\n",
       "      <td>147.32.84.208</td>\n",
       "      <td>1</td>\n",
       "      <td>139</td>\n",
       "      <td>0</td>\n",
       "    </tr>\n",
       "    <tr>\n",
       "      <th>3</th>\n",
       "      <td>42881</td>\n",
       "      <td>2011-08-18 11:01:04.267</td>\n",
       "      <td>0.0</td>\n",
       "      <td>UDP</td>\n",
       "      <td>147.32.84.208</td>\n",
       "      <td>147.32.80.9</td>\n",
       "      <td>1</td>\n",
       "      <td>87</td>\n",
       "      <td>0</td>\n",
       "    </tr>\n",
       "    <tr>\n",
       "      <th>4</th>\n",
       "      <td>42882</td>\n",
       "      <td>2011-08-18 11:01:04.268</td>\n",
       "      <td>0.0</td>\n",
       "      <td>UDP</td>\n",
       "      <td>147.32.80.9</td>\n",
       "      <td>147.32.84.208</td>\n",
       "      <td>1</td>\n",
       "      <td>503</td>\n",
       "      <td>0</td>\n",
       "    </tr>\n",
       "  </tbody>\n",
       "</table>\n",
       "</div>"
      ],
      "text/plain": [
       "   index                    Date  Duration Protocol          Source  \\\n",
       "0   1390 2011-08-18 10:20:40.906       0.0      TCP  58.188.108.203   \n",
       "1  42847 2011-08-18 11:01:02.018       0.0      UDP   147.32.84.208   \n",
       "2  42848 2011-08-18 11:01:02.018       0.0      UDP     147.32.80.9   \n",
       "3  42881 2011-08-18 11:01:04.267       0.0      UDP   147.32.84.208   \n",
       "4  42882 2011-08-18 11:01:04.268       0.0      UDP     147.32.80.9   \n",
       "\n",
       "            Dest  Packet  Bytes Label  \n",
       "0  147.32.84.208       1     66     0  \n",
       "1    147.32.80.9       1     64     0  \n",
       "2  147.32.84.208       1    139     0  \n",
       "3    147.32.80.9       1     87     0  \n",
       "4  147.32.84.208       1    503     0  "
      ]
     },
     "execution_count": 32,
     "metadata": {},
     "output_type": "execute_result"
    }
   ],
   "source": [
    "dataset_infected.head()"
   ]
  },
  {
   "cell_type": "markdown",
   "metadata": {},
   "source": [
    "### 3.3 Visualize the features"
   ]
  },
  {
   "cell_type": "code",
   "execution_count": 33,
   "metadata": {},
   "outputs": [
    {
     "data": {
      "text/plain": [
       "<matplotlib.axes._subplots.AxesSubplot at 0x242d8100240>"
      ]
     },
     "execution_count": 33,
     "metadata": {},
     "output_type": "execute_result"
    },
    {
     "data": {
      "image/png": "[encoded data removed]",
      "text/plain": [
       "<Figure size 864x288 with 1 Axes>"
      ]
     },
     "metadata": {
      "needs_background": "light"
     },
     "output_type": "display_data"
    },
    {
     "data": {
      "text/plain": [
       "<Figure size 432x288 with 0 Axes>"
      ]
     },
     "metadata": {},
     "output_type": "display_data"
    },
    {
     "data": {
      "image/png": "[encoded data removed]",
      "text/plain": [
       "<Figure size 864x288 with 1 Axes>"
      ]
     },
     "metadata": {
      "needs_background": "light"
     },
     "output_type": "display_data"
    }
   ],
   "source": [
    "#plot the protocol used by the infected host\n",
    "figure(figsize=(12,4))\n",
    "plt.title('Protocol used by infected Host')\n",
    "sns.countplot(x=\"Protocol\", data=dataset_infected, palette=\"Blues\")\n",
    "plt.figure()\n",
    "#plot the protocol used by benign host\n",
    "figure(figsize=(12,4))\n",
    "plt.title('Protocol used by benign host')\n",
    "dataset_normal=dataset_clean.loc[dataset_clean['Label']==1]\n",
    "sns.countplot(x=\"Protocol\", data=dataset_normal, palette=\"Blues\")"
   ]
  },
  {
   "cell_type": "code",
   "execution_count": 34,
   "metadata": {
    "scrolled": true
   },
   "outputs": [
    {
     "data": {
      "text/plain": [
       "<matplotlib.axes._subplots.AxesSubplot at 0x242d81a9128>"
      ]
     },
     "execution_count": 34,
     "metadata": {},
     "output_type": "execute_result"
    },
    {
     "data": {
      "image/png": "[encoded data removed]",
      "text/plain": [
       "<Figure size 864x288 with 1 Axes>"
      ]
     },
     "metadata": {
      "needs_background": "light"
     },
     "output_type": "display_data"
    }
   ],
   "source": [
    "#plot the averaged duration used by infected hosts and benign hosts\n",
    "Average=[]\n",
    "dataset_normal=dataset_clean.loc[dataset_clean['Label']==1]\n",
    "tmp1=dataset_normal['Duration'].tolist()\n",
    "tmp2=list(map(int, tmp1))\n",
    "Average.append(np.mean(tmp2))\n",
    "malware=dataset_clean.loc[dataset_clean['Label']==0]\n",
    "tmp1=malware['Duration'].tolist()\n",
    "tmp2=list(map(int, tmp1))\n",
    "Average.append(np.mean(tmp2))\n",
    "labels = ('Benign', 'Botnet')\n",
    "average_frame = {'Label': labels, 'Duration': Average }\n",
    "average_frame = pd.DataFrame(average_frame)\n",
    "figure(figsize=(12,4))\n",
    "plt.title('Average amount of duration for different categories')\n",
    "sns.barplot(x='Label', y = 'Duration', palette='Blues', data= average_frame)"
   ]
  },
  {
   "cell_type": "code",
   "execution_count": 35,
   "metadata": {},
   "outputs": [
    {
     "data": {
      "text/plain": [
       "<matplotlib.axes._subplots.AxesSubplot at 0x2438c850cf8>"
      ]
     },
     "execution_count": 35,
     "metadata": {},
     "output_type": "execute_result"
    },
    {
     "data": {
      "image/png": "[encoded data removed]",
      "text/plain": [
       "<Figure size 864x288 with 1 Axes>"
      ]
     },
     "metadata": {
      "needs_background": "light"
     },
     "output_type": "display_data"
    }
   ],
   "source": [
    "#plot the averaged bytes used by infected hosts and benign hosts\n",
    "Packet=[]\n",
    "dataset_normal=dataset_clean.loc[dataset_clean['Label']==1]\n",
    "tmp1=dataset_normal['Packet'].tolist()\n",
    "tmp2=list(map(int, tmp1))\n",
    "Packet.append(np.mean(tmp2))\n",
    "malware=dataset_clean.loc[dataset_clean['Label']==0]\n",
    "tmp1=malware['Packet'].tolist()\n",
    "tmp2=list(map(int, tmp1))\n",
    "Packet.append(np.mean(tmp2))\n",
    "labels = ('Benign', 'Botnet')\n",
    "packet_frame = {'Label': labels, 'Packet': Packet }\n",
    "packet_frame = pd.DataFrame(packet_frame)\n",
    "figure(figsize=(12,4))\n",
    "plt.title('Average amount of packets for different categories')\n",
    "sns.barplot(x='Label', y = 'Packet', palette='Blues', data= packet_frame)"
   ]
  },
  {
   "cell_type": "code",
   "execution_count": 36,
   "metadata": {},
   "outputs": [
    {
     "data": {
      "text/plain": [
       "<matplotlib.axes._subplots.AxesSubplot at 0x242d81001d0>"
      ]
     },
     "execution_count": 36,
     "metadata": {},
     "output_type": "execute_result"
    },
    {
     "data": {
      "image/png": "[encoded data removed]",
      "text/plain": [
       "<Figure size 864x288 with 1 Axes>"
      ]
     },
     "metadata": {
      "needs_background": "light"
     },
     "output_type": "display_data"
    }
   ],
   "source": [
    "#plot the averaged bytes used by infected hosts and benign hosts\n",
    "Bytes=[]\n",
    "dataset_normal=dataset_clean.loc[dataset_clean['Label']==1]\n",
    "tmp1=dataset_normal['Bytes'].tolist()\n",
    "tmp2=list(map(int, tmp1))\n",
    "Bytes.append(np.mean(tmp2))\n",
    "malware=dataset_clean.loc[dataset_clean['Label']==0]\n",
    "tmp1=malware['Bytes'].tolist()\n",
    "tmp2=list(map(int, tmp1))\n",
    "Bytes.append(np.mean(tmp2))\n",
    "labels = ('Benign', 'Botnet')\n",
    "bytes_frame = {'Label': labels, 'Bytes': Bytes }\n",
    "bytes_frame = pd.DataFrame(bytes_frame)\n",
    "figure(figsize=(12,4))\n",
    "plt.title('Average amount of bytes for different categories')\n",
    "sns.barplot(x='Label', y = 'Bytes', palette='Blues', data= bytes_frame)"
   ]
  },
  {
   "cell_type": "markdown",
   "metadata": {},
   "source": [
    "### 3.4 Discritization"
   ]
  },
  {
   "cell_type": "code",
   "execution_count": 37,
   "metadata": {},
   "outputs": [
    {
     "data": {
      "image/png": "[encoded data removed]",
      "text/plain": [
       "<Figure size 432x288 with 1 Axes>"
      ]
     },
     "metadata": {
      "needs_background": "light"
     },
     "output_type": "display_data"
    }
   ],
   "source": [
    "#calculate number of clusters used  using elbow\n",
    "def elbow (data):\n",
    "    dist = []\n",
    "    X=data.values.reshape(-1,1)\n",
    "    for k in range(1, 10):\n",
    "        kmeans = KMeans(n_clusters=k)\n",
    "        kmeans.fit(X)\n",
    "        dist.append(sum(np.min(cdist(X, kmeans.cluster_centers_, 'euclidean'), axis=1)) / X.shape[0])\n",
    "\n",
    "    plt.plot(range(1, 10), dist)\n",
    "    plt.title('Elbow rule')\n",
    "    plt.xlabel('Number of Clusters')\n",
    "    plt.ylabel('Average within-cluster sum of squares')\n",
    "    plt.grid(True)\n",
    "    plt.title('Elbow curve')\n",
    "elbow(dataset_clean['Bytes'])"
   ]
  },
  {
   "cell_type": "code",
   "execution_count": 38,
   "metadata": {},
   "outputs": [
    {
     "data": {
      "image/png": "[encoded data removed]",
      "text/plain": [
       "<Figure size 432x288 with 1 Axes>"
      ]
     },
     "metadata": {
      "needs_background": "light"
     },
     "output_type": "display_data"
    }
   ],
   "source": [
    "elbow(dataset_clean['Duration'])"
   ]
  },
  {
   "cell_type": "code",
   "execution_count": 49,
   "metadata": {},
   "outputs": [
    {
     "data": {
      "image/png": "[encoded data removed]",
      "text/plain": [
       "<Figure size 432x288 with 1 Axes>"
      ]
     },
     "metadata": {
      "needs_background": "light"
     },
     "output_type": "display_data"
    }
   ],
   "source": [
    "elbow(dataset_clean['Packet'])"
   ]
  },
  {
   "cell_type": "code",
   "execution_count": 40,
   "metadata": {},
   "outputs": [],
   "source": [
    "#functions for encoding\n",
    "def ordinal_rank(bins,col_name):\n",
    "    percentile = int(100/bins)\n",
    "    split_list = []\n",
    "\n",
    "    for p in range(percentile, 99, percentile):\n",
    "        rank = math.ceil((p/100.0)*len(dataset_clean[col_name])*1.0)\n",
    "        val = sorted(dataset_clean[col_name])[int(rank)]\n",
    "        split_list.append(val)\n",
    "    return split_list\n",
    "\n",
    "def attribute_mapping(x, split_list):\n",
    "    for i,s in enumerate(split_list):\n",
    "        if x<=s:\n",
    "            return i\n",
    "    return len(split_list)\n",
    "\n",
    "def netflow_encoding(netflow, feature_space):\n",
    "    code = 0\n",
    "    space_size = feature_space[0]*feature_space[1]\n",
    "    for i in range (0,len(feature_space)):\n",
    "        code = code + (netflow[i]) * space_size / feature_space[i]\n",
    "        space_size = space_size / feature_space[i]\n",
    "    return code"
   ]
  },
  {
   "cell_type": "code",
   "execution_count": 41,
   "metadata": {},
   "outputs": [],
   "source": [
    "split_list_Packets = ordinal_rank(4,'Packet')\n",
    "d_discr_infected = pd.DataFrame()\n",
    "d_discr_infected['Packet'] = dataset_infected['Packet'].apply(lambda x: attribute_mapping(x,split_list_Packets))\n",
    "d_discr_infected['Protocol'] = pd.factorize(dataset_infected['Protocol'])[0]\n",
    "feature_space = [d_discr_infected[name].nunique() for name in d_discr_infected.columns[0:2]]\n",
    "d_discr_infected['code'] = d_discr_infected.apply(lambda x: netflow_encoding(x, feature_space),axis=1)\n",
    "\n",
    "d_discr_normal = pd.DataFrame()\n",
    "d_discr_normal['Packet'] = dataset_normal['Packet'].apply(lambda x: attribute_mapping(x,split_list_Packets))\n",
    "d_discr_normal['Protocol'] = pd.factorize(dataset_normal['Protocol'])[0]\n",
    "feature_space = [d_discr_normal[name].nunique() for name in d_discr_normal.columns[0:2]]\n",
    "d_discr_normal['code'] = d_discr_normal.apply(lambda x: netflow_encoding(x, feature_space),axis=1)\n",
    "\n",
    "d_discr = pd.DataFrame()\n",
    "d_discr['Packet'] = dataset_clean['Packet'].apply(lambda x: attribute_mapping(x,split_list_Packets))\n",
    "d_discr['Protocol'] = pd.factorize(dataset_clean['Protocol'])[0]\n",
    "feature_space = [d_discr[name].nunique() for name in d_discr.columns[0:2]]\n",
    "d_discr['code'] = d_discr.apply(lambda x: netflow_encoding(x, feature_space),axis=1)\n",
    "dataset_clean['code'] = d_discr['code']\n",
    "d_discr['Source'] = dataset_clean['Source']\n",
    "d_discr['Dest'] = dataset_clean['Dest']\n",
    "d_discr['StartTime'] = dataset_clean['Date']"
   ]
  },
  {
   "cell_type": "code",
   "execution_count": 42,
   "metadata": {},
   "outputs": [
    {
     "data": {
      "image/png": "[encoded data removed]",
      "text/plain": [
       "<Figure size 1080x360 with 1 Axes>"
      ]
     },
     "metadata": {
      "needs_background": "light"
     },
     "output_type": "display_data"
    }
   ],
   "source": [
    "plt.figure(figsize=(15,5))\n",
    "plt.plot(d_discr['code'], label=\"Normal data\")\n",
    "plt.plot(d_discr_normal['code'], label=\"Infected data\")\n",
    "plt.legend()\n",
    "plt.show()"
   ]
  },
  {
   "cell_type": "markdown",
   "metadata": {},
   "source": [
    "## 4. Profiling task"
   ]
  },
  {
   "cell_type": "code",
   "execution_count": 43,
   "metadata": {},
   "outputs": [],
   "source": [
    "def extract_state(host_data,width):\n",
    "    start_time = host_data['StartTime']\n",
    "    difference_list = []\n",
    "    for i in range(len(host_data)):\n",
    "        if i == 0:\n",
    "            difference = 0\n",
    "        else:\n",
    "            difference = start_time.iloc[i]-start_time.iloc[i-1]\n",
    "            difference = np.ceil(difference.value/1e6)\n",
    "        difference_list.append(difference)\n",
    "    host_data['time'] = difference_list\n",
    "            \n",
    "    # sliding window\n",
    "    state_list = []\n",
    "    for i in range(len(host_data)):\n",
    "        j = i\n",
    "        state_list.append([])\n",
    "        temp_list = [host_data['code'].iloc[j]]\n",
    "        time_sum = 0\n",
    "        while True:\n",
    "            try:\n",
    "                time_sum += difference_list[j+1]\n",
    "            except:\n",
    "                break\n",
    "            j += 1\n",
    "            if time_sum<=width:\n",
    "                temp_list.append(host_data['code'].iloc[j])\n",
    "            else:\n",
    "                break\n",
    "        if len(temp_list)>=3:\n",
    "            state_list[i] = temp_list\n",
    "    host_data['window_states'] = state_list\n",
    "    return host_data"
   ]
  },
  {
   "cell_type": "code",
   "execution_count": 44,
   "metadata": {},
   "outputs": [],
   "source": [
    "# apply the n-grams\n",
    "def find_ngrams(states, n):\n",
    "    ngrams = []\n",
    "    for state in states:\n",
    "        for s in range(len(state)-n+1):\n",
    "            ngrams.append(state[s:s+n])    \n",
    "    return ngrams\n",
    "\n",
    "def sort_ngrams(grams3_normals):\n",
    "    ngram_dict = {}\n",
    "    for gram in grams3_normals :\n",
    "        grams = str(gram)[1:-1]\n",
    "        if grams in ngram_dict:\n",
    "            ngram_dict[grams] += 1\n",
    "        else:\n",
    "            ngram_dict[grams] = 1 \n",
    "    sorted_ngrams = sorted(ngram_dict.items(),key = lambda x:x[1], reverse = True )\n",
    "    sortedgrams_normed = [ (list[0], 1.0*list[1]/len(grams3_normals)) for list in sorted_ngrams]\n",
    "    return sortedgrams_normed"
   ]
  },
  {
   "cell_type": "code",
   "execution_count": 45,
   "metadata": {},
   "outputs": [],
   "source": [
    "#Select an IP for training and the rest for testing\n",
    "# we define one normal host as \"train\" set\n",
    "# for the botnet we will used the infected_host defined above\n",
    "normal_host = '147.32.84.170'\n",
    "\n",
    "test_hosts = ['147.32.84.165', '147.32.84.191', '147.32.84.192', '147.32.84.193', '147.32.84.204',\n",
    "             '147.32.84.205','147.32.84.206','147.32.84.207','147.32.84.209', '147.32.84.134', \n",
    "              '147.32.84.164', '147.32.87.36', '147.32.80.9', '147.32.87.11']"
   ]
  },
  {
   "cell_type": "code",
   "execution_count": 46,
   "metadata": {},
   "outputs": [
    {
     "name": "stderr",
     "output_type": "stream",
     "text": [
      "c:\\users\\a\\appdata\\local\\programs\\python\\python37\\lib\\site-packages\\ipykernel_launcher.py:11: SettingWithCopyWarning: \n",
      "A value is trying to be set on a copy of a slice from a DataFrame.\n",
      "Try using .loc[row_indexer,col_indexer] = value instead\n",
      "\n",
      "See the caveats in the documentation: http://pandas.pydata.org/pandas-docs/stable/indexing.html#indexing-view-versus-copy\n",
      "  # This is added back by InteractiveShellApp.init_path()\n",
      "c:\\users\\a\\appdata\\local\\programs\\python\\python37\\lib\\site-packages\\ipykernel_launcher.py:32: SettingWithCopyWarning: \n",
      "A value is trying to be set on a copy of a slice from a DataFrame.\n",
      "Try using .loc[row_indexer,col_indexer] = value instead\n",
      "\n",
      "See the caveats in the documentation: http://pandas.pydata.org/pandas-docs/stable/indexing.html#indexing-view-versus-copy\n"
     ]
    }
   ],
   "source": [
    "# train on normal host\n",
    "train_normal = d_discr[(d_discr['Source'] == normal_host) | (d_discr['Dest'] == normal_host)]\n",
    "train_normal_states = extract_state(train_normal, width=90)\n",
    "train_normal_states = [l for l in train_normal_states['window_states'] if len(l)>0]\n",
    "train_normal_ngrams = find_ngrams(train_normal_states, 2)\n",
    "train_normal = sort_ngrams(train_normal_ngrams)\n",
    "\n",
    "\n",
    "# train on infected host(the same infected host as above in task3)\n",
    "train_infected = d_discr[(d_discr['Source'] == infected_host) | (d_discr['Dest'] == infected_host)]\n",
    "train_infected_states = extract_state(train_infected, width=90)\n",
    "train_infected_states = [l for l in train_infected_states['window_states'] if len(l)>0]\n",
    "train_infected_ngrams = find_ngrams(train_infected_states, 2)\n",
    "train_infected = sort_ngrams(train_infected_ngrams)"
   ]
  },
  {
   "cell_type": "code",
   "execution_count": 50,
   "metadata": {},
   "outputs": [
    {
     "name": "stderr",
     "output_type": "stream",
     "text": [
      "c:\\users\\a\\appdata\\local\\programs\\python\\python37\\lib\\site-packages\\ipykernel_launcher.py:11: SettingWithCopyWarning: \n",
      "A value is trying to be set on a copy of a slice from a DataFrame.\n",
      "Try using .loc[row_indexer,col_indexer] = value instead\n",
      "\n",
      "See the caveats in the documentation: http://pandas.pydata.org/pandas-docs/stable/indexing.html#indexing-view-versus-copy\n",
      "  # This is added back by InteractiveShellApp.init_path()\n",
      "c:\\users\\a\\appdata\\local\\programs\\python\\python37\\lib\\site-packages\\ipykernel_launcher.py:32: SettingWithCopyWarning: \n",
      "A value is trying to be set on a copy of a slice from a DataFrame.\n",
      "Try using .loc[row_indexer,col_indexer] = value instead\n",
      "\n",
      "See the caveats in the documentation: http://pandas.pydata.org/pandas-docs/stable/indexing.html#indexing-view-versus-copy\n"
     ]
    },
    {
     "name": "stdout",
     "output_type": "stream",
     "text": [
      "TN 4\n",
      "FP 0\n",
      "FN 1\n",
      "TP 9\n",
      "'precision:', 1.0\n",
      "'recall', 0.9\n"
     ]
    }
   ],
   "source": [
    "from sklearn.metrics import confusion_matrix\n",
    "def fingerprint_matching(finger_train, finger_test, topN):\n",
    "    finger_train = finger_train[0:topN]\n",
    "    freq_train = [pair[1] for pair in finger_train]\n",
    "    \n",
    "    finger_test = {pair[0]:pair[1] for pair in finger_test}\n",
    "    fre_test = []\n",
    "    for i in range(topN):\n",
    "        key = finger_train[i][0]\n",
    "        if key in finger_test:\n",
    "            fre_test.append(finger_test[key])\n",
    "        else:\n",
    "            fre_test.append(0)  \n",
    "    dis = distance(freq_train,fre_test)\n",
    "    return dis\n",
    "\n",
    "def distance(finger_train, finger_test):\n",
    "    finger_train = np.array(finger_train)\n",
    "    finger_test = np.array(finger_test)\n",
    "    dis = sum((np.divide((finger_train-finger_test),(finger_train+finger_test)/2))**2)\n",
    "    return dis\n",
    "\n",
    "fmatch_test= np.zeros((len(test_hosts),2))\n",
    "\n",
    "for index, host in enumerate(test_hosts):\n",
    "    test_data = d_discr[(d_discr['Source'] == host) | (d_discr['Dest'] == host)]\n",
    "    test_states = extract_state(test_data,width=90)\n",
    "    test_states = [l for l in test_states['window_states'] if len(l)>0]\n",
    "    test_ngrams = find_ngrams(test_states, 2)\n",
    "    test_fingerprint = sort_ngrams(test_ngrams)\n",
    "    fmatch_test[index][0] = fingerprint_matching(train_infected,test_fingerprint,10)    \n",
    "    fmatch_test[index][1] = fingerprint_matching(train_normal,test_fingerprint,10)   \n",
    "    \n",
    "test_label = np.zeros(14)\n",
    "for i in range(14):\n",
    "        if fmatch_test[i][0] <= fmatch_test[i][1]:\n",
    "            test_label[i] = 1\n",
    "        else:\n",
    "            test_label[i] = 0\n",
    "\n",
    "true_label = [1,1,1,1,1,1,1,1,1,0,0,0,0,0]\n",
    "\n",
    "tn, fp, fn, tp = confusion_matrix(test_label, true_label).ravel()\n",
    "\n",
    "print(f\"TN {tn}\")\n",
    "print(f\"FP {fp}\")\n",
    "print(f\"FN {fn}\")\n",
    "print(f\"TP {tp}\")\n",
    "print(f\"'precision:', {float(tp)/(tp+fp)}\") \n",
    "print(f\"'recall', {float(tp)/(tp+fn)}\")"
   ]
  }
 ],
 "metadata": {
  "kernelspec": {
   "display_name": "Python 3",
   "language": "python",
   "name": "python3"
  },
  "language_info": {
   "codemirror_mode": {
    "name": "ipython",
    "version": 3
   },
   "file_extension": ".py",
   "mimetype": "text/x-python",
   "name": "python",
   "nbconvert_exporter": "python",
   "pygments_lexer": "ipython3",
   "version": "3.7.2"
  }
 },
 "nbformat": 4,
 "nbformat_minor": 2
}
