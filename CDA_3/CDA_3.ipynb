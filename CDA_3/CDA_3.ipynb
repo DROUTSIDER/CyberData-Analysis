{
 "cells": [
  {
   "cell_type": "markdown",
   "metadata": {},
   "source": [
    "## 1.Sampling Task\n",
    "Pick any of the CTU-13 datasets (Malware capture 42 to 54). Download the unidirectional netflows. DO NOT DOWNLOAD THE VIRUS THAT WAS USED TO GENERATE THE DATA UNLESS USING A VM OR OTHER SANDBOX. The flows are collected from a host in the network. Its IP address should be obvious from the data sample. We are interested in the other addresses the host connects with.\n",
    "Estimate the distribution over the other IP_addresses, what are the 10 most frequent values? Write code for RESERVOIR sampling, use it to estimate the distribution in one pass (no need to actually stream the data, you may store it in memory, or run every file separately, but do store and load the intermediate results). Use a range of reservoir sizes. What are the 10 most frequent IP-addresses and their frequencies when sampled? Use the theory to explain any approximation errors you observe."
   ]
  },
  {
   "cell_type": "code",
   "execution_count": 1,
   "metadata": {},
   "outputs": [],
   "source": [
    "import pandas as pd\n",
    "import matplotlib\n",
    "import numpy as np"
   ]
  },
  {
   "cell_type": "markdown",
   "metadata": {},
   "source": [
    "Dataset is CTU-Malware-Capture-Botnet-43. Infected host's ip is 147.32.84.165"
   ]
  },
  {
   "cell_type": "code",
   "execution_count": 2,
   "metadata": {},
   "outputs": [],
   "source": [
    "#pre-process, divide raw data in to follwing coulmns: Data, Duration, Protocol, Source, Destination and Label\n",
    "columns=['Date','Duration','Protocol','Source','Dest','Label']\n",
    "lst=[]\n",
    "with open(\"capture20110811.pcap.netflow.labeled\") as fp:  \n",
    "    for cnt, line in enumerate(fp):\n",
    "        if cnt!=0:\n",
    "            dat=line.split(\"\\t\")\n",
    "            lst.append([dat[0],dat[1],dat[2],dat[3].split(':')[0],dat[5].split(':')[0],dat[11].split('\\n')[0]])\n",
    "dataset=pd.DataFrame(lst, columns=columns)"
   ]
  },
  {
   "cell_type": "markdown",
   "metadata": {},
   "source": [
    "Filter out the other addresses connected to infected host"
   ]
  },
  {
   "cell_type": "code",
   "execution_count": 256,
   "metadata": {},
   "outputs": [
    {
     "data": {
      "text/html": [
       "<div>\n",
       "<style scoped>\n",
       "    .dataframe tbody tr th:only-of-type {\n",
       "        vertical-align: middle;\n",
       "    }\n",
       "\n",
       "    .dataframe tbody tr th {\n",
       "        vertical-align: top;\n",
       "    }\n",
       "\n",
       "    .dataframe thead th {\n",
       "        text-align: right;\n",
       "    }\n",
       "</style>\n",
       "<table border=\"1\" class=\"dataframe\">\n",
       "  <thead>\n",
       "    <tr style=\"text-align: right;\">\n",
       "      <th></th>\n",
       "      <th>index</th>\n",
       "      <th>Date</th>\n",
       "      <th>Duration</th>\n",
       "      <th>Protocol</th>\n",
       "      <th>Source</th>\n",
       "      <th>Dest</th>\n",
       "      <th>Label</th>\n",
       "    </tr>\n",
       "  </thead>\n",
       "  <tbody>\n",
       "    <tr>\n",
       "      <th>0</th>\n",
       "      <td>540283</td>\n",
       "      <td>2011-08-11 10:27:20.087</td>\n",
       "      <td>0.000</td>\n",
       "      <td>UDP</td>\n",
       "      <td>147.32.84.165</td>\n",
       "      <td>147.32.80.9</td>\n",
       "      <td>1</td>\n",
       "    </tr>\n",
       "    <tr>\n",
       "      <th>1</th>\n",
       "      <td>541362</td>\n",
       "      <td>2011-08-11 10:27:22.334</td>\n",
       "      <td>0.000</td>\n",
       "      <td>UDP</td>\n",
       "      <td>147.32.84.165</td>\n",
       "      <td>147.32.80.9</td>\n",
       "      <td>1</td>\n",
       "    </tr>\n",
       "    <tr>\n",
       "      <th>2</th>\n",
       "      <td>541377</td>\n",
       "      <td>2011-08-11 10:27:22.355</td>\n",
       "      <td>0.045</td>\n",
       "      <td>TCP</td>\n",
       "      <td>147.32.84.165</td>\n",
       "      <td>74.125.232.198</td>\n",
       "      <td>Botnet</td>\n",
       "    </tr>\n",
       "    <tr>\n",
       "      <th>3</th>\n",
       "      <td>541384</td>\n",
       "      <td>2011-08-11 10:27:22.362</td>\n",
       "      <td>0.034</td>\n",
       "      <td>TCP</td>\n",
       "      <td>74.125.232.198</td>\n",
       "      <td>147.32.84.165</td>\n",
       "      <td>Botnet</td>\n",
       "    </tr>\n",
       "    <tr>\n",
       "      <th>4</th>\n",
       "      <td>702906</td>\n",
       "      <td>2011-08-11 10:32:25.092</td>\n",
       "      <td>0.000</td>\n",
       "      <td>UDP</td>\n",
       "      <td>147.32.84.165</td>\n",
       "      <td>147.32.80.9</td>\n",
       "      <td>1</td>\n",
       "    </tr>\n",
       "  </tbody>\n",
       "</table>\n",
       "</div>"
      ],
      "text/plain": [
       "    index                     Date Duration Protocol          Source  \\\n",
       "0  540283  2011-08-11 10:27:20.087    0.000      UDP   147.32.84.165   \n",
       "1  541362  2011-08-11 10:27:22.334    0.000      UDP   147.32.84.165   \n",
       "2  541377  2011-08-11 10:27:22.355    0.045      TCP   147.32.84.165   \n",
       "3  541384  2011-08-11 10:27:22.362    0.034      TCP  74.125.232.198   \n",
       "4  702906  2011-08-11 10:32:25.092    0.000      UDP   147.32.84.165   \n",
       "\n",
       "             Dest    Label  \n",
       "0     147.32.80.9        1  \n",
       "1     147.32.80.9        1  \n",
       "2  74.125.232.198  Botnet   \n",
       "3   147.32.84.165   Botnet  \n",
       "4     147.32.80.9        1  "
      ]
     },
     "execution_count": 256,
     "metadata": {},
     "output_type": "execute_result"
    }
   ],
   "source": [
    "infected_host='147.32.84.165'\n",
    "infected_dataset=dataset.loc[(dataset['Source']==infected_host) | (dataset['Dest']==infected_host)]\n",
    "infected_dataset=infected_dataset.reset_index()\n",
    "infected_dataset.to_csv('infected_dataset.csv')\n",
    "infected_dataset.head()"
   ]
  },
  {
   "cell_type": "markdown",
   "metadata": {},
   "source": [
    "Calculate the group truth distribution"
   ]
  },
  {
   "cell_type": "code",
   "execution_count": 4,
   "metadata": {},
   "outputs": [
    {
     "data": {
      "text/plain": [
       "[['193.23.181.44', 0.11903337258005366],\n",
       " ['174.128.246.102', 0.06614680846957093],\n",
       " ['174.37.196.55', 0.06479569186820823],\n",
       " ['67.19.72.206', 0.0605107220753151],\n",
       " ['72.20.15.61', 0.05724874056631087],\n",
       " ['173.236.31.226', 0.03296724507324982],\n",
       " ['184.154.89.154', 0.032388195101237235],\n",
       " ['46.4.36.120', 0.031403810148815846],\n",
       " ['147.32.80.9', 0.015190410932463472],\n",
       " ['217.163.21.37', 0.013530467679360728]]"
      ]
     },
     "execution_count": 4,
     "metadata": {},
     "output_type": "execute_result"
    }
   ],
   "source": [
    "from collections import Counter\n",
    "#exclude host machine\n",
    "counter=Counter(list(infected_dataset[infected_dataset['Dest']!='147.32.84.165'].loc[:,'Dest']))\n",
    "top10=counter.most_common(10)\n",
    "top10_percentage=[]\n",
    "for i in range(len(top10)):\n",
    "    top10_percentage.append([top10[i][0],top10[i][1]/len(infected_dataset)])\n",
    "top10_percentage"
   ]
  },
  {
   "cell_type": "code",
   "execution_count": 375,
   "metadata": {},
   "outputs": [],
   "source": [
    "#In order to save space, process file without read whole dataset at once. This function is not used \n",
    "def RESERVIOR(fp,m):\n",
    "    #fp is file pointer; m is the reservior size\n",
    "    reservior=[]\n",
    "    count=0\n",
    "    while True:\n",
    "        newline=fp.readline()\n",
    "        if not newline:\n",
    "            break\n",
    "        else:\n",
    "            dat=newline.split(\"\\t\")\n",
    "            Source=dat[3].split(':')[0].strip()\n",
    "            Dest=dat[5].split(':')[0].strip()\n",
    "            #filter data\n",
    "            if Dest==infected_host or Source!=infected_host:\n",
    "                continue\n",
    "        if count<m: \n",
    "            reservior.append(Dest)\n",
    "        else:\n",
    "            #Choose to sample the i’th item (i>m) with probability pi = m/i\n",
    "            if np.random.uniform(0,1)<m/count:\n",
    "                s=np.random.randint(0,m)\n",
    "                reservior[s]=Dest\n",
    "        count=count+1\n",
    "    return reservior"
   ]
  },
  {
   "cell_type": "markdown",
   "metadata": {},
   "source": [
    "Test reservior algorithm using size 10,100,1000. This process can be very time consuming"
   ]
  },
  {
   "cell_type": "code",
   "execution_count": 376,
   "metadata": {},
   "outputs": [
    {
     "name": "stdout",
     "output_type": "stream",
     "text": [
      "distribution when k=10 is: [['193.23.181.44', 0.2], ['80.12.204.241', 0.1], ['174.128.246.102', 0.1], ['217.163.21.37', 0.1], ['147.32.80.9', 0.1], ['174.37.196.55', 0.1], ['184.154.89.154', 0.1], ['80.232.168.198', 0.1], ['67.19.72.206', 0.1]]\n",
      "distribution when k=100 is: [['193.23.181.44', 0.14], ['174.37.196.55', 0.12], ['72.20.15.61', 0.08], ['173.236.31.226', 0.06], ['67.19.72.206', 0.05], ['174.128.246.102', 0.05], ['184.82.155.107', 0.05], ['46.4.36.120', 0.04], ['184.154.89.154', 0.03], ['173.192.170.88', 0.02]]\n",
      "distribution when k=1000 is: [['193.23.181.44', 0.15], ['174.128.246.102', 0.073], ['174.37.196.55', 0.067], ['67.19.72.206', 0.067], ['72.20.15.61', 0.06], ['184.154.89.154', 0.051], ['173.236.31.226', 0.042], ['46.4.36.120', 0.03], ['147.32.80.9', 0.016], ['217.163.21.39', 0.013]]\n",
      "distribution when k=10000 is: [['193.23.181.44', 0.139], ['174.128.246.102', 0.0782], ['174.37.196.55', 0.0752], ['67.19.72.206', 0.0701], ['72.20.15.61', 0.0627], ['46.4.36.120', 0.0381], ['184.154.89.154', 0.0366], ['173.236.31.226', 0.0347], ['147.32.80.9', 0.0169], ['217.163.21.37', 0.0149]]\n"
     ]
    }
   ],
   "source": [
    "for j in [10,100,1000,10000]:\n",
    "    with open(\"capture20110811.pcap.netflow.labeled\") as fp:\n",
    "        fp.readline()\n",
    "        sampledData=RESERVIOR(fp,j)\n",
    "        counter=Counter(sampledData)\n",
    "        top10=counter.most_common(10)\n",
    "        top10_percentage=[]\n",
    "        for i in range(len(top10)):\n",
    "            top10_percentage.append([top10[i][0],top10[i][1]/len(sampledData)])\n",
    "        print(f'distribution when k={j} is: {top10_percentage}')"
   ]
  },
  {
   "cell_type": "markdown",
   "metadata": {},
   "source": [
    "## 2.Sketching task\n",
    "Build code for computing a COUNT-MIN sketch, play with different heights and widths for the Count-Min sketch matrix. Compare it to the RESERVOIR sampling strategy. Is it more space-efficient/accurate? What about run-time? Use the theory to explain any differences you observe"
   ]
  },
  {
   "cell_type": "markdown",
   "metadata": {},
   "source": [
    "## 3. Flow data discretization task\n",
    "We aim to learn a sequential model from NetFlow data from an infected host (unidirectional netfows). Consider scenario 10 from the CTU-13 data sets (see paper 4 from below resources). Remove all background flows from the data. You are to discretize the NetFlows. Investigate the data from one of the infected hosts. Select and visualize two features that you believe are most relevant for modeling the behavior of the infected host. Discretize these features using use any of the methods discussed in class (combine the two values into a single discrete value). Do you observe any behavior in the two features that could be useful for detecting the infection? Explain. Apply the discretization to data from all hosts in the selected scenario."
   ]
  },
  {
   "cell_type": "code",
   "execution_count": null,
   "metadata": {},
   "outputs": [],
   "source": []
  }
 ],
 "metadata": {
  "kernelspec": {
   "display_name": "Python 3",
   "language": "python",
   "name": "python3"
  },
  "language_info": {
   "codemirror_mode": {
    "name": "ipython",
    "version": 3
   },
   "file_extension": ".py",
   "mimetype": "text/x-python",
   "name": "python",
   "nbconvert_exporter": "python",
   "pygments_lexer": "ipython3",
   "version": "3.7.2"
  }
 },
 "nbformat": 4,
 "nbformat_minor": 2
}
