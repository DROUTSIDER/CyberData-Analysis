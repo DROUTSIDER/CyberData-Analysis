{
 "cells": [
  {
   "cell_type": "markdown",
   "metadata": {},
   "source": [
    "## 1.Sampling Task\n",
    "Pick any of the CTU-13 datasets (Malware capture 42 to 54). Download the unidirectional netflows. DO NOT DOWNLOAD THE VIRUS THAT WAS USED TO GENERATE THE DATA UNLESS USING A VM OR OTHER SANDBOX. The flows are collected from a host in the network. Its IP address should be obvious from the data sample. We are interested in the other addresses the host connects with.\n",
    "Estimate the distribution over the other IP_addresses, what are the 10 most frequent values? Write code for RESERVOIR sampling, use it to estimate the distribution in one pass (no need to actually stream the data, you may store it in memory, or run every file separately, but do store and load the intermediate results). Use a range of reservoir sizes. What are the 10 most frequent IP-addresses and their frequencies when sampled? Use the theory to explain any approximation errors you observe."
   ]
  },
  {
   "cell_type": "code",
   "execution_count": 1,
   "metadata": {},
   "outputs": [],
   "source": [
    "import pandas as pd\n",
    "from mmh3 import hash\n",
    "import math\n",
    "import matplotlib\n",
    "import numpy as np\n",
    "import time\n",
    "import operator\n",
    "import collections"
   ]
  },
  {
   "cell_type": "markdown",
   "metadata": {},
   "source": [
    "Dataset is CTU-Malware-Capture-Botnet-43. Infected host's ip is 147.32.84.165"
   ]
  },
  {
   "cell_type": "code",
   "execution_count": 2,
   "metadata": {},
   "outputs": [],
   "source": [
    "#pre-process, divide raw data in to follwing coulmns: Data, Duration, Protocol, Source, Destination and Label\n",
    "columns=['Date','Duration','Protocol','Source','Dest','Label']\n",
    "lst=[]\n",
    "with open(\"capture20110811.pcap.netflow.labeled\") as fp:  \n",
    "    for cnt, line in enumerate(fp):\n",
    "        if cnt!=0:\n",
    "            dat=line.split(\"\\t\")\n",
    "            lst.append([dat[0],dat[1],dat[2],dat[3].split(':')[0],dat[5].split(':')[0],dat[11].split('\\n')[0]])\n",
    "dataset=pd.DataFrame(lst, columns=columns)"
   ]
  },
  {
   "cell_type": "markdown",
   "metadata": {},
   "source": [
    "Filter out the other addresses connected to infected host"
   ]
  },
  {
   "cell_type": "code",
   "execution_count": 3,
   "metadata": {},
   "outputs": [
    {
     "data": {
      "text/html": [
       "<div>\n",
       "<style scoped>\n",
       "    .dataframe tbody tr th:only-of-type {\n",
       "        vertical-align: middle;\n",
       "    }\n",
       "\n",
       "    .dataframe tbody tr th {\n",
       "        vertical-align: top;\n",
       "    }\n",
       "\n",
       "    .dataframe thead th {\n",
       "        text-align: right;\n",
       "    }\n",
       "</style>\n",
       "<table border=\"1\" class=\"dataframe\">\n",
       "  <thead>\n",
       "    <tr style=\"text-align: right;\">\n",
       "      <th></th>\n",
       "      <th>index</th>\n",
       "      <th>Date</th>\n",
       "      <th>Duration</th>\n",
       "      <th>Protocol</th>\n",
       "      <th>Source</th>\n",
       "      <th>Dest</th>\n",
       "      <th>Label</th>\n",
       "    </tr>\n",
       "  </thead>\n",
       "  <tbody>\n",
       "    <tr>\n",
       "      <th>0</th>\n",
       "      <td>540283</td>\n",
       "      <td>2011-08-11 10:27:20.087</td>\n",
       "      <td>0.000</td>\n",
       "      <td>UDP</td>\n",
       "      <td>147.32.84.165</td>\n",
       "      <td>147.32.80.9</td>\n",
       "      <td>1</td>\n",
       "    </tr>\n",
       "    <tr>\n",
       "      <th>1</th>\n",
       "      <td>541362</td>\n",
       "      <td>2011-08-11 10:27:22.334</td>\n",
       "      <td>0.000</td>\n",
       "      <td>UDP</td>\n",
       "      <td>147.32.84.165</td>\n",
       "      <td>147.32.80.9</td>\n",
       "      <td>1</td>\n",
       "    </tr>\n",
       "    <tr>\n",
       "      <th>2</th>\n",
       "      <td>541377</td>\n",
       "      <td>2011-08-11 10:27:22.355</td>\n",
       "      <td>0.045</td>\n",
       "      <td>TCP</td>\n",
       "      <td>147.32.84.165</td>\n",
       "      <td>74.125.232.198</td>\n",
       "      <td>Botnet</td>\n",
       "    </tr>\n",
       "    <tr>\n",
       "      <th>3</th>\n",
       "      <td>541384</td>\n",
       "      <td>2011-08-11 10:27:22.362</td>\n",
       "      <td>0.034</td>\n",
       "      <td>TCP</td>\n",
       "      <td>74.125.232.198</td>\n",
       "      <td>147.32.84.165</td>\n",
       "      <td>Botnet</td>\n",
       "    </tr>\n",
       "    <tr>\n",
       "      <th>4</th>\n",
       "      <td>702906</td>\n",
       "      <td>2011-08-11 10:32:25.092</td>\n",
       "      <td>0.000</td>\n",
       "      <td>UDP</td>\n",
       "      <td>147.32.84.165</td>\n",
       "      <td>147.32.80.9</td>\n",
       "      <td>1</td>\n",
       "    </tr>\n",
       "  </tbody>\n",
       "</table>\n",
       "</div>"
      ],
      "text/plain": [
       "    index                     Date Duration Protocol          Source  \\\n",
       "0  540283  2011-08-11 10:27:20.087    0.000      UDP   147.32.84.165   \n",
       "1  541362  2011-08-11 10:27:22.334    0.000      UDP   147.32.84.165   \n",
       "2  541377  2011-08-11 10:27:22.355    0.045      TCP   147.32.84.165   \n",
       "3  541384  2011-08-11 10:27:22.362    0.034      TCP  74.125.232.198   \n",
       "4  702906  2011-08-11 10:32:25.092    0.000      UDP   147.32.84.165   \n",
       "\n",
       "             Dest    Label  \n",
       "0     147.32.80.9        1  \n",
       "1     147.32.80.9        1  \n",
       "2  74.125.232.198  Botnet   \n",
       "3   147.32.84.165   Botnet  \n",
       "4     147.32.80.9        1  "
      ]
     },
     "execution_count": 3,
     "metadata": {},
     "output_type": "execute_result"
    }
   ],
   "source": [
    "infected_host='147.32.84.165'\n",
    "infected_dataset=dataset.loc[(dataset['Source']==infected_host) | (dataset['Dest']==infected_host)]\n",
    "infected_dataset=infected_dataset.reset_index()\n",
    "infected_dataset.to_csv('infected_dataset.csv')\n",
    "infected_dataset.head()"
   ]
  },
  {
   "cell_type": "markdown",
   "metadata": {},
   "source": [
    "Calculate the group truth distribution"
   ]
  },
  {
   "cell_type": "code",
   "execution_count": 4,
   "metadata": {},
   "outputs": [
    {
     "data": {
      "text/plain": [
       "[['193.23.181.44', 0.11903337258005366],\n",
       " ['174.128.246.102', 0.06614680846957093],\n",
       " ['174.37.196.55', 0.06479569186820823],\n",
       " ['67.19.72.206', 0.0605107220753151],\n",
       " ['72.20.15.61', 0.05724874056631087],\n",
       " ['173.236.31.226', 0.03296724507324982],\n",
       " ['184.154.89.154', 0.032388195101237235],\n",
       " ['46.4.36.120', 0.031403810148815846],\n",
       " ['147.32.80.9', 0.015190410932463472],\n",
       " ['217.163.21.37', 0.013530467679360728]]"
      ]
     },
     "execution_count": 4,
     "metadata": {},
     "output_type": "execute_result"
    }
   ],
   "source": [
    "from collections import Counter\n",
    "#exclude host machine\n",
    "counter=Counter(list(infected_dataset[infected_dataset['Dest']!='147.32.84.165'].loc[:,'Dest']))\n",
    "top10=counter.most_common(10)\n",
    "top10_percentage=[]\n",
    "for i in range(len(top10)):\n",
    "    top10_percentage.append([top10[i][0],top10[i][1]/len(infected_dataset)])\n",
    "top10_percentage"
   ]
  },
  {
   "cell_type": "code",
   "execution_count": 5,
   "metadata": {},
   "outputs": [],
   "source": [
    "#In order to save space, process file without read whole dataset at once. This function is not used \n",
    "def RESERVIOR(fp,m):\n",
    "    #fp is file pointer; m is the reservior size\n",
    "    reservior=[]\n",
    "    count=0\n",
    "    while True:\n",
    "        newline=fp.readline()\n",
    "        if not newline:\n",
    "            break\n",
    "        else:\n",
    "            dat=newline.split(\"\\t\")\n",
    "            Source=dat[3].split(':')[0].strip()\n",
    "            Dest=dat[5].split(':')[0].strip()\n",
    "            #filter data\n",
    "            if Dest==infected_host or Source!=infected_host:\n",
    "                continue\n",
    "        if count<m: \n",
    "            reservior.append(Dest)\n",
    "        else:\n",
    "            #Choose to sample the i’th item (i>m) with probability pi = m/i\n",
    "            if np.random.uniform(0,1)<m/count:\n",
    "                s=np.random.randint(0,m)\n",
    "                reservior[s]=Dest\n",
    "        count=count+1\n",
    "    return reservior"
   ]
  },
  {
   "cell_type": "markdown",
   "metadata": {},
   "source": [
    "Test reservior algorithm using size 10,100,1000. This process can be very time consuming"
   ]
  },
  {
   "cell_type": "code",
   "execution_count": 6,
   "metadata": {},
   "outputs": [
    {
     "name": "stdout",
     "output_type": "stream",
     "text": [
      "distribution when k=10 is: [['174.37.196.55', 0.2], ['217.163.21.37', 0.1], ['196.218.117.248', 0.1], ['67.19.72.206', 0.1], ['174.128.246.102', 0.1], ['92.240.244.181', 0.1], ['46.4.36.120', 0.1], ['205.188.190.2', 0.1], ['67.195.168.31', 0.1]] with time 37.68745756149292 s \n",
      "\n",
      "distribution when k=100 is: [['193.23.181.44', 0.1], ['72.20.15.61', 0.09], ['67.19.72.206', 0.08], ['174.128.246.102', 0.07], ['174.37.196.55', 0.07], ['173.236.31.226', 0.06], ['184.154.89.154', 0.04], ['74.6.136.244', 0.03], ['46.4.36.120', 0.02], ['94.100.28.114', 0.02]] with time 13.108110666275024 s \n",
      "\n",
      "distribution when k=1000 is: [['193.23.181.44', 0.129], ['174.128.246.102', 0.078], ['174.37.196.55', 0.076], ['67.19.72.206', 0.065], ['72.20.15.61', 0.059], ['173.236.31.226', 0.037], ['46.4.36.120', 0.037], ['184.154.89.154', 0.037], ['94.100.28.114', 0.021], ['147.32.80.9', 0.018]] with time 12.791190385818481 s \n",
      "\n",
      "distribution when k=10000 is: [['193.23.181.44', 0.1354], ['174.128.246.102', 0.0745], ['174.37.196.55', 0.0735], ['72.20.15.61', 0.0675], ['67.19.72.206', 0.0629], ['173.236.31.226', 0.043], ['184.154.89.154', 0.0376], ['46.4.36.120', 0.0338], ['147.32.80.9', 0.0161], ['217.163.21.37', 0.0152]] with time 12.521703004837036 s \n",
      "\n",
      "averaged time is 18.548645092890812 s\n"
     ]
    }
   ],
   "source": [
    "timeRESERVIOR=[]\n",
    "for j in [10,100,1000,10000]:\n",
    "    start_time = time.time()\n",
    "    with open(\"capture20110811.pcap.netflow.labeled\") as fp:\n",
    "        fp.readline()\n",
    "        sampledData=RESERVIOR(fp,j)\n",
    "        counter=Counter(sampledData)\n",
    "        top10=counter.most_common(10)\n",
    "        top10_percentage=[]\n",
    "        for i in range(len(top10)):\n",
    "            top10_percentage.append([top10[i][0],top10[i][1]/len(sampledData)])\n",
    "            timeCount = time.time() - start_time\n",
    "            timeRESERVIOR.append(timeCount)\n",
    "        print(f'distribution when k={j} is: {top10_percentage} with time {timeCount} s \\n')\n",
    "\n",
    "print(f\"averaged time is {np.mean(timeRESERVIOR)} s\")"
   ]
  },
  {
   "cell_type": "markdown",
   "metadata": {},
   "source": [
    "## 2.Sketching task\n",
    "Build code for computing a COUNT-MIN sketch, play with different heights and widths for the Count-Min sketch matrix. Compare it to the RESERVOIR sampling strategy. Is it more space-efficient/accurate? What about run-time? Use the theory to explain any differences you observe"
   ]
  },
  {
   "cell_type": "code",
   "execution_count": 8,
   "metadata": {},
   "outputs": [],
   "source": [
    "def mostFrequent(dataset, k):\n",
    "    IPs=[]\n",
    "    for i in range (0,len(dataset)):\n",
    "        if (dataset.Source[i] == infected_host):\n",
    "            IPs.append(dataset.Dest[i])\n",
    "        else:\n",
    "            IPs.append(dataset.Source[i])\n",
    "    counter=collections.Counter(IPs)\n",
    "    return(counter.most_common(k), IPs)\n",
    "most_freq,ipList = mostFrequent(infected_dataset, 10)"
   ]
  },
  {
   "cell_type": "code",
   "execution_count": 9,
   "metadata": {},
   "outputs": [],
   "source": [
    "#count min algorithm\n",
    "class Sketching:\n",
    "    def __init__(self, size, hash_count):\n",
    "        self.size = size\n",
    "        self.hash_count = hash_count\n",
    "        self.sketch_array = np.zeros((hash_count,size),dtype=np.int)\n",
    "        \n",
    "    def add(self, string):\n",
    "        for seed in range(self.hash_count):\n",
    "            result = hash(string, seed) % self.size\n",
    "            self.sketch_array[seed][result]+=1\n",
    "            \n",
    "    def estimate(self, string):\n",
    "        minimum = 1000000\n",
    "        for seed in range(self.hash_count):\n",
    "            result = hash(string, seed) % self.size\n",
    "            minimum = min(minimum,self.sketch_array[seed][result])\n",
    "        return minimum"
   ]
  },
  {
   "cell_type": "code",
   "execution_count": 12,
   "metadata": {
    "scrolled": true
   },
   "outputs": [
    {
     "name": "stdout",
     "output_type": "stream",
     "text": [
      "width is 1000 , height is 1\n",
      "time is 0.2300732135772705 s\n",
      " accuracy is  87.93066841668436 %\n",
      "-------------------------\n",
      "width is 1000 , height is 10\n",
      "time is 1.2771072387695312 s\n",
      " accuracy is  99.99806983342663 %\n",
      "-------------------------\n",
      "width is 10000 , height is 1\n",
      "time is 0.21059322357177734 s\n",
      " accuracy is  100.0 %\n",
      "-------------------------\n",
      "width is 10000 , height is 10\n",
      "time is 1.2811062335968018 s\n",
      " accuracy is  100.0 %\n",
      "-------------------------\n",
      "width is 99999 , height is 1\n",
      "time is 0.20862531661987305 s\n",
      " accuracy is  100.0 %\n",
      "-------------------------\n",
      "width is 99999 , height is 10\n",
      "time is 1.2736387252807617 s\n",
      " accuracy is  100.0 %\n",
      "-------------------------\n"
     ]
    }
   ],
   "source": [
    "import mmh3\n",
    "#test on different width and height\n",
    "for e,d in [(0.002,np.exp(-1)) , (0.002,np.exp(-10)) , (0.0002,np.exp(-1)) , (0.0002,np.exp(-10)) , (0.00002,np.exp(-1)) , (0.00002,np.exp(-10))]:\n",
    "        startTime=time.time()\n",
    "        width = int(2 / e)  \n",
    "        height = int(np.log(1/d)) \n",
    "        print(f\"width is {width} , height is {height}\")\n",
    "        #construct matrix\n",
    "        countMin = Sketching(int(width), int(height))\n",
    "        for ip in ipList:\n",
    "                countMin.add(ip)\n",
    "        estimation = {}\n",
    "        for ip in ipList:\n",
    "            estimation[ip] = countMin.estimate(ip)\n",
    "        # estimate top 10\n",
    "        top10Est = sorted(estimation.items(), key=operator.itemgetter(1), reverse = True)\n",
    "        error = 0\n",
    "        for i in range(10):\n",
    "            #difference between ground truth and estimation\n",
    "            error+= abs(top10Est[i][1] - most_freq[i][1])\n",
    "        print(f\"time is {time.time()-startTime} s\")\n",
    "        print(f\" accuracy is  {100-(error*100.0/len(ipList))} %\")\n",
    "        print('-------------------------')"
   ]
  }
 ],
 "metadata": {
  "kernelspec": {
   "display_name": "Python 3",
   "language": "python",
   "name": "python3"
  },
  "language_info": {
   "codemirror_mode": {
    "name": "ipython",
    "version": 3
   },
   "file_extension": ".py",
   "mimetype": "text/x-python",
   "name": "python",
   "nbconvert_exporter": "python",
   "pygments_lexer": "ipython3",
   "version": "3.7.2"
  }
 },
 "nbformat": 4,
 "nbformat_minor": 2
}
